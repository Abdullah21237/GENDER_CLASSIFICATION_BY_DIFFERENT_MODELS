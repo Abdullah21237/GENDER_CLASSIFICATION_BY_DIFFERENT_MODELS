{
 "cells": [
  {
   "cell_type": "code",
   "execution_count": 1,
   "id": "ba2c88bd",
   "metadata": {},
   "outputs": [],
   "source": [
    "import os\n",
    "import numpy as np\n",
    "import tensorflow as tf\n",
    "from tensorflow.keras.preprocessing.image import ImageDataGenerator\n",
    "from tensorflow.keras.models import Sequential\n",
    "from tensorflow.keras.layers import Conv2D, MaxPooling2D, Flatten, Dense, Dropout\n",
    "from sklearn.metrics import classification_report\n",
    "from tensorflow.keras.optimizers import Adam\n",
    "from tensorflow.keras.regularizers import l2\n",
    "from tensorflow.keras.callbacks import EarlyStopping\n",
    "\n",
    "# Define data directories\n",
    "data_dir = 'C:/Users/hafiz/AI Internship (Rex)/Task_1_06-09-23/Male and Female face dataset/Test_Validation_Train'  # Replace with the actual path to your data directory\n",
    "train_dir = os.path.join(data_dir, 'Train')\n",
    "test_dir = os.path.join(data_dir, 'Test')\n",
    "validation_dir = os.path.join(data_dir, 'Validation')\n"
   ]
  },
  {
   "cell_type": "code",
   "execution_count": 2,
   "id": "ed2bd605",
   "metadata": {},
   "outputs": [],
   "source": [
    "# Define data split ratios\n",
    "train_ratio = 0.7\n",
    "validation_ratio = 0.15\n",
    "test_ratio = 0.15\n",
    "\n",
    "# Define image dimensions and batch size\n",
    "img_width, img_height = 150, 150\n",
    "batch_size = 32\n"
   ]
  },
  {
   "cell_type": "code",
   "execution_count": 3,
   "id": "18eafad8",
   "metadata": {},
   "outputs": [],
   "source": [
    "# Function to create and compile the CNN model\n",
    "def create_model(img_width, img_height, num_classes):\n",
    "    model = Sequential([\n",
    "    Conv2D(64, (3, 3), activation='relu', input_shape=(img_width, img_height, 3)),\n",
    "    MaxPooling2D(2, 2),\n",
    "    Conv2D(128, (3, 3), activation='relu'),\n",
    "    MaxPooling2D(2, 2),\n",
    "    Conv2D(256, (3, 3), activation='relu'),\n",
    "    MaxPooling2D(2, 2),\n",
    "    Flatten(),\n",
    "    Dense(1024, activation='relu', kernel_regularizer=l2(0.001)),\n",
    "    Dropout(0.5),\n",
    "    Dense(1, activation='sigmoid')  # Change to 1 output neuron\n",
    "    ])\n",
    "\n",
    "    model.compile(optimizer=Adam(learning_rate=0.0001), loss='binary_crossentropy', metrics=['accuracy'])\n",
    "    return model\n"
   ]
  },
  {
   "cell_type": "code",
   "execution_count": 4,
   "id": "75e1ca85",
   "metadata": {},
   "outputs": [],
   "source": [
    "# Create data generators with data augmentation for training data\n",
    "train_datagen = ImageDataGenerator(\n",
    "    rescale=1.0/255.0,\n",
    "    rotation_range=40,\n",
    "    width_shift_range=0.2,\n",
    "    height_shift_range=0.2,\n",
    "    shear_range=0.2,\n",
    "    zoom_range=0.2,\n",
    "    horizontal_flip=True,\n",
    "    fill_mode='nearest'\n",
    ")\n",
    "\n",
    "# Data generators for validation and testing (no data augmentation)\n",
    "validation_datagen = ImageDataGenerator(rescale=1.0/255.0)\n",
    "test_datagen = ImageDataGenerator(rescale=1.0/255.0)\n"
   ]
  },
  {
   "cell_type": "code",
   "execution_count": 5,
   "id": "a4ad9747",
   "metadata": {},
   "outputs": [
    {
     "name": "stdout",
     "output_type": "stream",
     "text": [
      "Found 3783 images belonging to 2 classes.\n",
      "Found 766 images belonging to 2 classes.\n",
      "Found 766 images belonging to 2 classes.\n"
     ]
    }
   ],
   "source": [
    "# Create data generators\n",
    "train_generator = train_datagen.flow_from_directory(\n",
    "    train_dir,\n",
    "    target_size=(img_width, img_height),\n",
    "    batch_size=batch_size,\n",
    "    class_mode='binary'\n",
    ")\n",
    "\n",
    "validation_generator = validation_datagen.flow_from_directory(\n",
    "    validation_dir,\n",
    "    target_size=(img_width, img_height),\n",
    "    batch_size=batch_size,\n",
    "    class_mode='binary'\n",
    ")\n",
    "\n",
    "test_generator = test_datagen.flow_from_directory(\n",
    "    test_dir,\n",
    "    target_size=(img_width, img_height),\n",
    "    batch_size=batch_size,\n",
    "    class_mode='binary'\n",
    ")\n"
   ]
  },
  {
   "cell_type": "code",
   "execution_count": 6,
   "id": "f02b6ede",
   "metadata": {},
   "outputs": [
    {
     "name": "stdout",
     "output_type": "stream",
     "text": [
      "Epoch 1/5\n",
      "119/119 [==============================] - 836s 7s/step - loss: 1.5469 - accuracy: 0.5778 - val_loss: 0.9288 - val_accuracy: 0.7324\n",
      "Epoch 2/5\n",
      "119/119 [==============================] - 847s 7s/step - loss: 0.8835 - accuracy: 0.6714 - val_loss: 0.7746 - val_accuracy: 0.6945\n",
      "Epoch 3/5\n",
      "119/119 [==============================] - 854s 7s/step - loss: 0.7414 - accuracy: 0.7021 - val_loss: 0.6156 - val_accuracy: 0.7715\n",
      "Epoch 4/5\n",
      "119/119 [==============================] - 848s 7s/step - loss: 0.6675 - accuracy: 0.7203 - val_loss: 0.5614 - val_accuracy: 0.7924\n",
      "Epoch 5/5\n",
      "119/119 [==============================] - 845s 7s/step - loss: 0.6392 - accuracy: 0.7256 - val_loss: 0.5216 - val_accuracy: 0.8133\n"
     ]
    }
   ],
   "source": [
    "# Create and train the model\n",
    "img_width = 150\n",
    "img_height = 150\n",
    "num_classes = 2  # Adjust this based on your problem\n",
    "model = create_model(img_width, img_height, num_classes)\n",
    "\n",
    "# Train the model with your data generators and other settings\n",
    "epochs = 5\n",
    "early_stopping = EarlyStopping(patience=5, restore_best_weights=True)\n",
    "\n",
    "history = model.fit(\n",
    "    train_generator,\n",
    "    steps_per_epoch=len(train_generator),\n",
    "    epochs=epochs,\n",
    "    validation_data=validation_generator,\n",
    "    validation_steps=len(validation_generator),\n",
    "    callbacks=[early_stopping]\n",
    ")\n"
   ]
  },
  {
   "cell_type": "code",
   "execution_count": 7,
   "id": "bc197ba7",
   "metadata": {},
   "outputs": [
    {
     "name": "stdout",
     "output_type": "stream",
     "text": [
      "12/24 [==============>...............] - ETA: 28s - loss: 0.6256 - accuracy: 0.7760"
     ]
    },
    {
     "name": "stderr",
     "output_type": "stream",
     "text": [
      "C:\\Users\\hafiz\\anaconda3\\lib\\site-packages\\PIL\\Image.py:979: UserWarning: Palette images with Transparency expressed in bytes should be converted to RGBA images\n",
      "  warnings.warn(\n"
     ]
    },
    {
     "name": "stdout",
     "output_type": "stream",
     "text": [
      "24/24 [==============================] - 58s 2s/step - loss: 0.6082 - accuracy: 0.7807\n",
      "Test Accuracy: 0.7806788682937622\n"
     ]
    }
   ],
   "source": [
    "# Evaluate the model on the test set\n",
    "test_loss, test_accuracy = model.evaluate(test_generator, steps=len(test_generator))\n",
    "print(f\"Test Accuracy: {test_accuracy}\")\n"
   ]
  },
  {
   "cell_type": "code",
   "execution_count": 8,
   "id": "4d3d9d0a",
   "metadata": {},
   "outputs": [
    {
     "name": "stdout",
     "output_type": "stream",
     "text": [
      "24/24 [==============================] - 54s 2s/step\n",
      "Test Accuracy: 0.5117493472584856\n",
      "Precision: 0.5101123595505618\n",
      "Recall: 0.5926892950391645\n",
      "F1-Score: 0.5483091787439612\n",
      "              precision    recall  f1-score   support\n",
      "\n",
      " Female Face       0.51      0.43      0.47       383\n",
      "   Male Face       0.51      0.59      0.55       383\n",
      "\n",
      "    accuracy                           0.51       766\n",
      "   macro avg       0.51      0.51      0.51       766\n",
      "weighted avg       0.51      0.51      0.51       766\n",
      "\n"
     ]
    }
   ],
   "source": [
    "# Import precision_score, recall_score, f1_score, and accuracy_score\n",
    "from sklearn.metrics import precision_score, recall_score, f1_score, accuracy_score\n",
    "\n",
    "# Make predictions on the test set\n",
    "predictions = model.predict(test_generator)\n",
    "predicted_classes = np.round(predictions)\n",
    "\n",
    "# Generate a classification report\n",
    "true_classes = test_generator.classes\n",
    "class_labels = list(test_generator.class_indices.keys())\n",
    "\n",
    "accuracy = accuracy_score(true_classes, predicted_classes)\n",
    "precision = precision_score(true_classes, predicted_classes)\n",
    "recall = recall_score(true_classes, predicted_classes)\n",
    "f1 = f1_score(true_classes, predicted_classes)\n",
    "\n",
    "print(f\"Test Accuracy: {accuracy}\")\n",
    "print(f\"Precision: {precision}\")\n",
    "print(f\"Recall: {recall}\")\n",
    "print(f\"F1-Score: {f1}\")\n",
    "\n",
    "report = classification_report(true_classes, predicted_classes, target_names=class_labels)\n",
    "print(report)\n"
   ]
  },
  {
   "cell_type": "code",
   "execution_count": null,
   "id": "131fa0ff",
   "metadata": {},
   "outputs": [],
   "source": []
  }
 ],
 "metadata": {
  "kernelspec": {
   "display_name": "Python 3 (ipykernel)",
   "language": "python",
   "name": "python3"
  },
  "language_info": {
   "codemirror_mode": {
    "name": "ipython",
    "version": 3
   },
   "file_extension": ".py",
   "mimetype": "text/x-python",
   "name": "python",
   "nbconvert_exporter": "python",
   "pygments_lexer": "ipython3",
   "version": "3.10.9"
  }
 },
 "nbformat": 4,
 "nbformat_minor": 5
}
